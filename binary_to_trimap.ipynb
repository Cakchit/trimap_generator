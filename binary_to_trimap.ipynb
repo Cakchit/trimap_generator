{
 "cells": [
  {
   "cell_type": "code",
   "execution_count": 1,
   "metadata": {
    "collapsed": true
   },
   "outputs": [],
   "source": [
    "from skimage import data\n",
    "from scipy import ndimage\n",
    "import cv2, os\n",
    "import numpy as np"
   ]
  },
  {
   "cell_type": "code",
   "execution_count": 2,
   "metadata": {
    "collapsed": true
   },
   "outputs": [],
   "source": [
    "def trimap_generate(image, name, size, number):\n",
    "    \"\"\"\n",
    "    This function creates a trimap based on simple dilation algorithm\n",
    "    Inputs [3]: a binary image (black & white only), name of the image, dilation pixels \n",
    "    Output    : a trimap\n",
    "    \"\"\"\n",
    "    pixels    = 2*size + 1;                       # doubled and then plus 1 to have an odd-sized (centered) kernel            \n",
    "    kernel    = np.ones((pixels,pixels),np.uint8) # How many pixel of extension do I get\n",
    "    dilation  = cv2.dilate(img, kernel, iterations = 1) # What does iteration do?\n",
    "\n",
    "    dilation  = np.where(dilation == 255, 127, dilation) \t\t## WHT to GRY\n",
    "    remake    = np.where(dilation != 127, 0, dilation)\t\t## Smoothing\n",
    "    remake    = np.where(img > 127, 200, dilation)\t\t\t## mark the tumor inside light GRY\n",
    "\n",
    "    remake    = np.where(remake < 127, 0, remake)\t\t\t## Embelishment\n",
    "    remake    = np.where(remake > 200, 0, remake)\t\t\t## Embelishment\n",
    "    remake    = np.where(remake == 200, 255, remake)\t\t## light GRY to WHT\n",
    "\n",
    "    cv2.imwrite('{}px_'.format(size) + name + '_{}.png'.format(number), remake)\n",
    "    # Input File Name: Mask_ctrl.1.png\n",
    "    # Output File Name: 10px_Mask_ctrl.1.png"
   ]
  },
  {
   "cell_type": "code",
   "execution_count": 4,
   "metadata": {},
   "outputs": [],
   "source": [
    "name    = \"sample_image.png\";\n",
    "size    = 30;\n",
    "number  = 1;\n",
    "\n",
    "img = cv2.imread(name, cv2.IMREAD_GRAYSCALE)\n",
    "height, width = img.shape[:2]\n",
    "\n",
    "trimap_generate(img, name, size, number)\n"
   ]
  }
 ],
 "metadata": {
  "kernelspec": {
   "display_name": "Python 3",
   "language": "python",
   "name": "python3"
  },
  "language_info": {
   "codemirror_mode": {
    "name": "ipython",
    "version": 3
   },
   "file_extension": ".py",
   "mimetype": "text/x-python",
   "name": "python",
   "nbconvert_exporter": "python",
   "pygments_lexer": "ipython3",
   "version": "3.5.0"
  }
 },
 "nbformat": 4,
 "nbformat_minor": 2
}
